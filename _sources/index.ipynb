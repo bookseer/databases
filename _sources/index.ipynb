{
 "cells": [
  {
   "cell_type": "markdown",
   "id": "7a9ef54c",
   "metadata": {},
   "source": [
    "# Базы данных\n",
    "\n",
    "```{tableofcontents}\n",
    "```"
   ]
  }
 ],
 "metadata": {
  "jupytext": {
   "formats": "md:myst",
   "text_representation": {
    "extension": ".md",
    "format_name": "myst"
   }
  },
  "kernelspec": {
   "display_name": "Python 3",
   "language": "python",
   "name": "python3"
  },
  "source_map": [
   11
  ]
 },
 "nbformat": 4,
 "nbformat_minor": 5
}